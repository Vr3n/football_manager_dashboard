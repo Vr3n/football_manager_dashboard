{
 "cells": [
  {
   "cell_type": "code",
   "execution_count": 2,
   "id": "9fbe4ad7-0563-4849-88de-611ef7313038",
   "metadata": {},
   "outputs": [],
   "source": [
    "import pandas as pd\n",
    "import numpy as np\n",
    "import re"
   ]
  },
  {
   "cell_type": "code",
   "execution_count": 4,
   "id": "1f7d05cb-cf54-4b3f-a6dd-ae6356c8fbd8",
   "metadata": {},
   "outputs": [],
   "source": [
    "file_path = r\"C:\\Users\\DELL 5590\\codes\\football_manager\\tonbridge_angels\\squad_aug_2024.html\""
   ]
  },
  {
   "cell_type": "code",
   "execution_count": 5,
   "id": "bb6f05f9-7856-49ba-8ef8-441bb5139584",
   "metadata": {},
   "outputs": [],
   "source": [
    "df = pd.read_html(file_path)[0]"
   ]
  },
  {
   "cell_type": "code",
   "execution_count": 19,
   "id": "06ffc260-3bfe-4d35-a595-04787bf76006",
   "metadata": {},
   "outputs": [],
   "source": [
    "def wages_str_to_num(input_str: str) -> int:\n",
    "    \"\"\"\n",
    "    Extracting the Wage from string.\n",
    "    eg. \"Â£400 p/w\" -> 400.0\n",
    "    \"\"\"\n",
    "    if input_str is np.NaN:\n",
    "        return\n",
    "\n",
    "    match = re.search(r'\\d+(\\.\\d+)?', input_str)\n",
    "\n",
    "    if match:\n",
    "        number = match.group()\n",
    "        return number\n",
    "    return input_str"
   ]
  },
  {
   "cell_type": "code",
   "execution_count": 21,
   "id": "2418028c-179d-43c1-93e7-c8448242f2a2",
   "metadata": {},
   "outputs": [
    {
     "data": {
      "text/plain": [
       "0     Â£400 p/w\n",
       "1     Â£475 p/w\n",
       "2     Â£400 p/w\n",
       "3     Â£550 p/w\n",
       "4     Â£800 p/w\n",
       "5     Â£425 p/w\n",
       "6     Â£650 p/w\n",
       "7     Â£800 p/w\n",
       "8           NaN\n",
       "9     Â£575 p/w\n",
       "10          NaN\n",
       "11          NaN\n",
       "12    Â£650 p/w\n",
       "13    Â£375 p/w\n",
       "14          NaN\n",
       "15    Â£375 p/w\n",
       "16    Â£375 p/w\n",
       "17    Â£475 p/w\n",
       "18          NaN\n",
       "19    Â£190 p/w\n",
       "Name: Wage, dtype: object"
      ]
     },
     "execution_count": 21,
     "metadata": {},
     "output_type": "execute_result"
    }
   ],
   "source": [
    "df['Wage']"
   ]
  },
  {
   "cell_type": "code",
   "execution_count": null,
   "id": "1b679292-a1e2-4cd1-adf5-e24021c7e3e7",
   "metadata": {},
   "outputs": [],
   "source": []
  }
 ],
 "metadata": {
  "kernelspec": {
   "display_name": "Python 3 (ipykernel)",
   "language": "python",
   "name": "python3"
  },
  "language_info": {
   "codemirror_mode": {
    "name": "ipython",
    "version": 3
   },
   "file_extension": ".py",
   "mimetype": "text/x-python",
   "name": "python",
   "nbconvert_exporter": "python",
   "pygments_lexer": "ipython3",
   "version": "3.11.8"
  }
 },
 "nbformat": 4,
 "nbformat_minor": 5
}
