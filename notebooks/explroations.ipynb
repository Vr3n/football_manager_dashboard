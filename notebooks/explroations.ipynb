{
 "cells": [
  {
   "cell_type": "code",
   "execution_count": 2,
   "id": "9fbe4ad7-0563-4849-88de-611ef7313038",
   "metadata": {},
   "outputs": [],
   "source": [
    "import pandas as pd\n",
    "import numpy as np\n",
    "import re"
   ]
  },
  {
   "cell_type": "code",
   "execution_count": 4,
   "id": "1f7d05cb-cf54-4b3f-a6dd-ae6356c8fbd8",
   "metadata": {},
   "outputs": [],
   "source": [
    "file_path = r\"C:\\Users\\DELL 5590\\codes\\football_manager\\tonbridge_angels\\squad_aug_2024.html\""
   ]
  },
  {
   "cell_type": "code",
   "execution_count": 5,
   "id": "bb6f05f9-7856-49ba-8ef8-441bb5139584",
   "metadata": {},
   "outputs": [],
   "source": [
    "df = pd.read_html(file_path)[0]"
   ]
  },
  {
   "cell_type": "code",
   "execution_count": 22,
   "id": "06ffc260-3bfe-4d35-a595-04787bf76006",
   "metadata": {},
   "outputs": [],
   "source": [
    "def wages_str_to_num(input_str: str) -> int:\n",
    "    \"\"\"\n",
    "    Extracting the Wage from string.\n",
    "    eg. \"Â£400 p/w\" -> 400.0\n",
    "    \"\"\"\n",
    "    if input_str is np.NaN:\n",
    "        return 0\n",
    "\n",
    "    match = re.search(r'\\d+(\\.\\d+)?', input_str)\n",
    "\n",
    "    if match:\n",
    "        number = match.group()\n",
    "        return number\n",
    "    return input_str"
   ]
  },
  {
   "cell_type": "code",
   "execution_count": 23,
   "id": "2418028c-179d-43c1-93e7-c8448242f2a2",
   "metadata": {},
   "outputs": [
    {
     "data": {
      "text/plain": [
       "0     400\n",
       "1     475\n",
       "2     400\n",
       "3     550\n",
       "4     800\n",
       "5     425\n",
       "6     650\n",
       "7     800\n",
       "8       0\n",
       "9     575\n",
       "10      0\n",
       "11      0\n",
       "12    650\n",
       "13    375\n",
       "14      0\n",
       "15    375\n",
       "16    375\n",
       "17    475\n",
       "18      0\n",
       "19    190\n",
       "Name: Wage, dtype: object"
      ]
     },
     "execution_count": 23,
     "metadata": {},
     "output_type": "execute_result"
    }
   ],
   "source": [
    "df['Wage'].apply(wages_str_to_num)"
   ]
  },
  {
   "cell_type": "code",
   "execution_count": 45,
   "id": "1b679292-a1e2-4cd1-adf5-e24021c7e3e7",
   "metadata": {},
   "outputs": [
    {
     "data": {
      "text/plain": [
       "[{'name': 'Reice Charles-Cook', 'wage': 'Â£400 p/w'},\n",
       " {'name': 'Jamie Fielding', 'wage': 'Â£475 p/w'},\n",
       " {'name': 'Jake Goodman', 'wage': 'Â£400 p/w'},\n",
       " {'name': 'Joash Nembhard', 'wage': 'Â£550 p/w'},\n",
       " {'name': 'Ben Brookes', 'wage': 'Â£800 p/w'},\n",
       " {'name': 'Sam Blackman', 'wage': 'Â£425 p/w'},\n",
       " {'name': 'Lewis Gard', 'wage': 'Â£650 p/w'},\n",
       " {'name': 'Toby Edser', 'wage': 'Â£800 p/w'},\n",
       " {'name': 'Francis Mampolo', 'wage': nan},\n",
       " {'name': 'Joe Turner', 'wage': 'Â£575 p/w'},\n",
       " {'name': 'Ronan Ismali', 'wage': nan},\n",
       " {'name': 'Sean Shields', 'wage': nan},\n",
       " {'name': 'Jaydn Mundle-Smith', 'wage': 'Â£650 p/w'},\n",
       " {'name': 'Arjanit Krasniqi', 'wage': 'Â£375 p/w'},\n",
       " {'name': 'Li Alex', 'wage': nan},\n",
       " {'name': 'Miles Mitchell-Nelson', 'wage': 'Â£375 p/w'},\n",
       " {'name': 'Jonny Henly', 'wage': 'Â£375 p/w'},\n",
       " {'name': 'Ansu Janneh', 'wage': 'Â£475 p/w'},\n",
       " {'name': 'Paris Lock', 'wage': nan},\n",
       " {'name': 'Matthew Laycock', 'wage': 'Â£190 p/w'}]"
      ]
     },
     "execution_count": 45,
     "metadata": {},
     "output_type": "execute_result"
    }
   ],
   "source": []
  },
  {
   "cell_type": "code",
   "execution_count": null,
   "id": "0e413869-b423-4e73-a261-baebff36067a",
   "metadata": {},
   "outputs": [],
   "source": []
  }
 ],
 "metadata": {
  "kernelspec": {
   "display_name": "Python 3 (ipykernel)",
   "language": "python",
   "name": "python3"
  },
  "language_info": {
   "codemirror_mode": {
    "name": "ipython",
    "version": 3
   },
   "file_extension": ".py",
   "mimetype": "text/x-python",
   "name": "python",
   "nbconvert_exporter": "python",
   "pygments_lexer": "ipython3",
   "version": "3.11.8"
  }
 },
 "nbformat": 4,
 "nbformat_minor": 5
}
